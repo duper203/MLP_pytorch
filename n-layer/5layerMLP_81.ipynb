{
  "nbformat": 4,
  "nbformat_minor": 0,
  "metadata": {
    "colab": {
      "provenance": [],
      "gpuType": "T4",
      "include_colab_link": true
    },
    "kernelspec": {
      "name": "python3",
      "display_name": "Python 3"
    },
    "language_info": {
      "name": "python"
    },
    "accelerator": "GPU"
  },
  "cells": [
    {
      "cell_type": "markdown",
      "metadata": {
        "id": "view-in-github",
        "colab_type": "text"
      },
      "source": [
        "<a href=\"https://colab.research.google.com/github/duper203/MLP_pytorch/blob/main/n-layer/5layerMLP_81.ipynb\" target=\"_parent\"><img src=\"https://colab.research.google.com/assets/colab-badge.svg\" alt=\"Open In Colab\"/></a>"
      ]
    },
    {
      "cell_type": "markdown",
      "metadata": {
        "id": "Y_a1Rz3nVyJh"
      },
      "source": [
        "# Assignment 2 : N-layer MLP Classification (Pytorch)\n"
      ]
    },
    {
      "cell_type": "code",
      "metadata": {
        "id": "MI4mr7ETdFSF",
        "colab": {
          "base_uri": "https://localhost:8080/"
        },
        "outputId": "87326129-38d0-41b9-bd65-45c2745d9124"
      },
      "source": [
        "name = input(\"Name :\")\n",
        "ID = input(\"student ID :\")"
      ],
      "execution_count": null,
      "outputs": [
        {
          "name": "stdout",
          "output_type": "stream",
          "text": [
            "Name :김혜수\n",
            "student ID :2110883\n"
          ]
        }
      ]
    },
    {
      "cell_type": "markdown",
      "metadata": {
        "id": "vPLGGnO29MSa"
      },
      "source": [
        "## 실습\n",
        "___"
      ]
    },
    {
      "cell_type": "markdown",
      "metadata": {
        "id": "xDukFMhuUJvN"
      },
      "source": [
        "\n",
        "## Matrix 미분 정리\n",
        "$H = XW+b$</br>\n",
        "$L = f(H)$</br>\n",
        "$\\frac{\\partial L}{\\partial W} = \\frac{\\partial H}{\\partial W} \\times \\frac{\\partial L}{\\partial H} = \\frac{\\partial (XW+b)}{\\partial W} \\times\\frac{\\partial L}{\\partial H} = X *\\frac{\\partial L}{\\partial H}$</br>\n",
        "$\\frac{\\partial L}{\\partial X} = \\frac{\\partial L}{\\partial H} \\times \\frac{\\partial H}{\\partial X} = \\frac{\\partial L}{\\partial H} \\times \\frac{\\partial (XW+b)}{\\partial X} = \\frac{\\partial L}{\\partial H}*W$</br>\n",
        "$\\frac{\\partial L}{\\partial b}=1*\\frac{\\partial L}{\\partial H}$</br>"
      ]
    },
    {
      "cell_type": "markdown",
      "metadata": {
        "id": "i-fmKct3--PU"
      },
      "source": [
        "N Layer Network를 완성하시오\n"
      ]
    },
    {
      "cell_type": "code",
      "metadata": {
        "id": "Dec_jM7xqcmi"
      },
      "source": [
        "import torch\n",
        "\n",
        "class MLP(torch.nn.Module): #### 추가 0\n",
        "  def __init__(self, hidden_size_one, hidden_size_two, hidden_size_three,hidden_size_four, input_size, output_size, std=1e-4):\n",
        "    super(MLP, self).__init__()\n",
        "    torch.manual_seed(0)\n",
        "\n",
        "    #---------과제---------#\n",
        "    #네트워크를 설계해보세요#\n",
        "    #torch.nn.Linear가 MLP 한 층을 나타냅니다#\n",
        "    #Activation function도 잊지 마세요#\n",
        "    #! hidden size는 자유롭게 설계해보세요 !#\n",
        "    #---------과제---------#\n",
        "\n",
        "    self.layer1=torch.nn.Linear(input_size, hidden_size_one)\n",
        "    self.layer2=torch.nn.Linear(hidden_size_one, hidden_size_two)\n",
        "    self.layer3=torch.nn.Linear(hidden_size_two, hidden_size_three)\n",
        "    self.layer4=torch.nn.Linear(hidden_size_three, hidden_size_four)\n",
        "    self.layer5=torch.nn.Linear(hidden_size_four, output_size)\n",
        "    # self.layer6=torch.nn.Linear(hidden_size_five, output_size)\n",
        "\n",
        "    ########추가 1\n",
        "\n",
        "    self.relu=torch.nn.ReLU()\n",
        "\n",
        "  def forward(self, X, y = None):\n",
        "    #---------과제---------#\n",
        "    #feedfoward 부분을 코딩해보세요#\n",
        "    #천천히 순서대로 작성하시면 됩니다.#\n",
        "    #마지막에 softmax 잊지 마세요#\n",
        "    #최종 결과물 변수의 이름은 output으로 해주세요#\n",
        "    #---------과제---------#\n",
        "\n",
        "    feature1=self.relu(self.layer1(X))\n",
        "    feature2=self.relu(self.layer2(feature1))\n",
        "    feature3=self.relu(self.layer3(feature2))\n",
        "    feature4=self.relu(self.layer4(feature3))\n",
        "    feature5=self.relu(self.layer5(feature4))\n",
        "    ########추가 2\n",
        "\n",
        "\n",
        "    output=torch.nn.functional.log_softmax(feature5, dim=1)\n",
        "    ########바꾸기 3\n",
        "\n",
        "\n",
        "    return output\n",
        "\n",
        "  def accuracy(self, X, y):\n",
        "      p = self.forward(X)\n",
        "      pred = torch.argmax(p,dim=1)\n",
        "      acc = torch.sum(pred==y).float()/X.shape[0]*100\n",
        "\n",
        "      return acc\n"
      ],
      "execution_count": 8,
      "outputs": []
    },
    {
      "cell_type": "markdown",
      "metadata": {
        "id": "DZ-HRa3Y6BSH"
      },
      "source": [
        "#### Data"
      ]
    },
    {
      "cell_type": "code",
      "metadata": {
        "id": "u3wb5RRRQokx"
      },
      "source": [
        "from keras.datasets import mnist\n",
        "import numpy as np\n",
        "from matplotlib import pyplot as plt\n",
        "(x_train, y_train), (x_test, y_test) = mnist.load_data()"
      ],
      "execution_count": 9,
      "outputs": []
    },
    {
      "cell_type": "code",
      "metadata": {
        "colab": {
          "base_uri": "https://localhost:8080/"
        },
        "id": "rU41dla3E-lK",
        "outputId": "2af5c9f4-3f7a-470c-8418-9b77b1222422"
      },
      "source": [
        "print(\"shape of x_train :\",x_train.shape)\n",
        "print(\"shape of y_train :\",y_train.shape)\n",
        "print(\"shape of x_test :\",x_test.shape)\n",
        "print(\"shape of y_test :\",y_test.shape)"
      ],
      "execution_count": 10,
      "outputs": [
        {
          "output_type": "stream",
          "name": "stdout",
          "text": [
            "shape of x_train : (60000, 28, 28)\n",
            "shape of y_train : (60000,)\n",
            "shape of x_test : (10000, 28, 28)\n",
            "shape of y_test : (10000,)\n"
          ]
        }
      ]
    },
    {
      "cell_type": "code",
      "metadata": {
        "id": "XhwXBuLBCW5U"
      },
      "source": [
        "def preprocessing_data(x_train, x_test, y_train, y_test):\n",
        "    x_train = x_train[:5000]\n",
        "    y_train = y_train[:5000]\n",
        "    x_test = x_test[:1000]\n",
        "    y_test = y_test[:1000]\n",
        "\n",
        "    #change dtype\n",
        "    x_train = torch.from_numpy(x_train).cuda()\n",
        "    x_test = torch.from_numpy(x_test).cuda()\n",
        "\n",
        "    x_train = torch.tensor(x_train,dtype=torch.float64, device=\"cuda:0\")\n",
        "    y_train = torch.tensor(y_train,device=\"cuda:0\")\n",
        "\n",
        "    x_test = torch.tensor(x_test,dtype=torch.float64,device=\"cuda:0\")\n",
        "    y_test = torch.tensor(y_test,device=\"cuda:0\")\n",
        "\n",
        "    #reshaping\n",
        "    x_train = x_train.reshape([x_train.shape[0],-1])\n",
        "    x_test = x_test.reshape(x_test.shape[0],-1)\n",
        "\n",
        "\n",
        "    #normalization\n",
        "    mean_value = torch.mean(x_train, dim=0)\n",
        "    x_train -= mean_value\n",
        "    x_train = x_train/255\n",
        "    x_test -= mean_value\n",
        "    x_test = x_test/255\n",
        "\n",
        "\n",
        "    return x_train, x_test, y_train, y_test"
      ],
      "execution_count": 11,
      "outputs": []
    },
    {
      "cell_type": "code",
      "metadata": {
        "id": "X8JElsD8kjst",
        "colab": {
          "base_uri": "https://localhost:8080/"
        },
        "outputId": "ef680f4e-e38d-4482-c9f0-19673518a870"
      },
      "source": [
        "x_train, x_test, y_train, y_test = preprocessing_data(x_train, x_test, y_train, y_test)\n"
      ],
      "execution_count": 12,
      "outputs": [
        {
          "output_type": "stream",
          "name": "stderr",
          "text": [
            "<ipython-input-11-9c9f895cc5c5>:11: UserWarning: To copy construct from a tensor, it is recommended to use sourceTensor.clone().detach() or sourceTensor.clone().detach().requires_grad_(True), rather than torch.tensor(sourceTensor).\n",
            "  x_train = torch.tensor(x_train,dtype=torch.float64, device=\"cuda:0\")\n",
            "<ipython-input-11-9c9f895cc5c5>:14: UserWarning: To copy construct from a tensor, it is recommended to use sourceTensor.clone().detach() or sourceTensor.clone().detach().requires_grad_(True), rather than torch.tensor(sourceTensor).\n",
            "  x_test = torch.tensor(x_test,dtype=torch.float64,device=\"cuda:0\")\n"
          ]
        }
      ]
    },
    {
      "cell_type": "code",
      "metadata": {
        "colab": {
          "base_uri": "https://localhost:8080/"
        },
        "id": "CbAgU3LWkm_5",
        "outputId": "38b1614b-5ab3-4aff-d8a5-9412fb22f16a"
      },
      "source": [
        "print(\"shape of x_train :\",x_train.shape)\n",
        "print(\"shape of y_train :\",y_train.shape)\n",
        "print(\"shape of x_test :\",x_test.shape)\n",
        "print(\"shape of y_test :\",y_test.shape)"
      ],
      "execution_count": 13,
      "outputs": [
        {
          "output_type": "stream",
          "name": "stdout",
          "text": [
            "shape of x_train : torch.Size([5000, 784])\n",
            "shape of y_train : torch.Size([5000])\n",
            "shape of x_test : torch.Size([1000, 784])\n",
            "shape of y_test : torch.Size([1000])\n"
          ]
        }
      ]
    },
    {
      "cell_type": "markdown",
      "source": [
        "####Training"
      ],
      "metadata": {
        "id": "X-FhRaxEzIU2"
      }
    },
    {
      "cell_type": "code",
      "metadata": {
        "colab": {
          "base_uri": "https://localhost:8080/"
        },
        "id": "fxUvdSR94v5V",
        "outputId": "a85ce5ee-08db-4314-9ddc-54f0c47fa7ba"
      },
      "source": [
        "N = x_train.shape[0]\n",
        "input_size = x_train.shape[1]\n",
        "\n",
        "#---------과제---------#\n",
        "learning_rate = 1e-2\n",
        "output_size = 10 # output target 종류의 개수\n",
        "epoch_size = 10 # 학습 수\n",
        "hidden_size_one=256\n",
        "hidden_size_two=128\n",
        "hidden_size_three=64\n",
        "hidden_size_four=32\n",
        "# hidden_size_five=\n",
        "    ######## 추가 4\n",
        "\n",
        "#---------과제---------#\n",
        "\n",
        "    ######## input 5\n",
        "Network = MLP(input_size=input_size, output_size=output_size, std=1e-4, hidden_size_one=hidden_size_one, hidden_size_two=hidden_size_two, hidden_size_three=hidden_size_three,hidden_size_four=hidden_size_four)\n",
        "Network = Network.cuda()\n",
        "history = {'val_acc': [],'val_loss': []}\n",
        "\n",
        "optimizer = torch.optim.SGD(Network.parameters(), lr=learning_rate)\n",
        "criterion = torch.nn.CrossEntropyLoss()\n",
        "\n",
        "#코드를 보며 epoch, batch에 대해서 이해해봅시다.\n",
        "for i in range(epoch_size+1):\n",
        "    for j in range(N):\n",
        "\n",
        "        optimizer.zero_grad()\n",
        "\n",
        "        x_now = x_train[j].unsqueeze(0).type(torch.cuda.FloatTensor)\n",
        "        y_now = y_train[j].unsqueeze(0)\n",
        "\n",
        "        y_predict = Network(x_now)\n",
        "        #---------과제---------#\n",
        "        #loss 계산 후 weight update#\n",
        "        #---------과제---------#\n",
        "\n",
        "        # loss 계산\n",
        "        loss=criterion(y_predict,y_now)\n",
        "\n",
        "        # BP\n",
        "        loss.backward()\n",
        "\n",
        "        # weight update := optimizer\n",
        "        optimizer.step()\n",
        "\n",
        "    #accuracy와 loss를 기록해둡시다.\n",
        "    val_acc = 0\n",
        "    val_loss = 0\n",
        "    for k in range(x_test.shape[0]):\n",
        "        val_acc += Network.accuracy(x_test[k].unsqueeze(0).type(torch.cuda.FloatTensor), y_test[k])\n",
        "        val_loss += criterion((Network.forward(x_test[k].unsqueeze(0).type(torch.cuda.FloatTensor))), y_test[k].unsqueeze(0)).detach()\n",
        "    history[\"val_acc\"].append((val_acc/x_test.shape[0]).cpu())\n",
        "    history[\"val_loss\"].append((val_loss/x_test.shape[0]).cpu())\n",
        "\n",
        "    if i % 10 == 0:\n",
        "        # print(i, \"train accuracy :\", Network.accuracy(x_train.type(torch.cuda.FloatTensor), y_train))\n",
        "        # print(i, \"train loss     :\", loss)\n",
        "        print(i, \"test accuracy :\", val_acc/x_test.shape[0])\n",
        "        print(i, \"test loss     :\", val_loss/x_test.shape[0])\n",
        "        print(\"============================================\")"
      ],
      "execution_count": 14,
      "outputs": [
        {
          "output_type": "stream",
          "name": "stdout",
          "text": [
            "0 test accuracy : tensor(43.3000, device='cuda:0')\n",
            "0 test loss     : tensor(1.5692, device='cuda:0')\n",
            "============================================\n",
            "10 test accuracy : tensor(79.5000, device='cuda:0')\n",
            "10 test loss     : tensor(0.6600, device='cuda:0')\n",
            "============================================\n"
          ]
        }
      ]
    },
    {
      "cell_type": "code",
      "source": [
        "history[\"val_acc\"]"
      ],
      "metadata": {
        "colab": {
          "base_uri": "https://localhost:8080/"
        },
        "id": "qvAhWBxJRHGh",
        "outputId": "c61e5e38-65b7-4689-ee80-5341a8454d2f"
      },
      "execution_count": 15,
      "outputs": [
        {
          "output_type": "execute_result",
          "data": {
            "text/plain": [
              "[tensor(43.3000),\n",
              " tensor(59.5000),\n",
              " tensor(68.7000),\n",
              " tensor(78.2000),\n",
              " tensor(78.5000),\n",
              " tensor(80.7000),\n",
              " tensor(80.),\n",
              " tensor(77.2000),\n",
              " tensor(80.4000),\n",
              " tensor(81.4000),\n",
              " tensor(79.5000)]"
            ]
          },
          "metadata": {},
          "execution_count": 15
        }
      ]
    },
    {
      "cell_type": "code",
      "metadata": {
        "id": "j81v6VyG7vzn",
        "colab": {
          "base_uri": "https://localhost:8080/",
          "height": 466
        },
        "outputId": "feefd4c3-37bc-454a-dd3f-8ef0ce25509c"
      },
      "source": [
        "from matplotlib import pyplot as plt\n",
        "fig = plt.figure()\n",
        "ax_acc = fig.add_subplot(111)\n",
        "\n",
        "ax_acc.plot(range(epoch_size+1), history['val_acc'], label='정확도(%)', color='darkred')\n",
        "#plt.text(3, 14.7, \"<----------------정확도(%)\", verticalalignment='top', horizontalalignment='right')\n",
        "plt.xlabel('epochs')\n",
        "plt.ylabel('Validation Accuracy(%)')\n",
        "ax_acc.grid(linestyle='--', color='lavender')\n",
        "ax_loss = ax_acc.twinx()\n",
        "\n",
        "ax_loss.plot(range(epoch_size+1), history['val_loss'], label='오차', color='darkblue')\n",
        "#plt.text(3, 2.2, \"<----------------오차\", verticalalignment='top', horizontalalignment='left')\n",
        "plt.ylabel('Validation Error')\n",
        "ax_loss.yaxis.tick_right()\n",
        "ax_loss.grid(linestyle='--', color='lavender')\n",
        "\n",
        "# 그래프 표시\n",
        "plt.show()\n",
        "\n",
        "print(\"나의 최고 test accuracy : \",max(history['val_acc']))"
      ],
      "execution_count": 16,
      "outputs": [
        {
          "output_type": "display_data",
          "data": {
            "text/plain": [
              "<Figure size 640x480 with 2 Axes>"
            ],
            "image/png": "[encoded data removed]"
          },
          "metadata": {}
        },
        {
          "output_type": "stream",
          "name": "stdout",
          "text": [
            "나의 최고 test accuracy :  tensor(81.4000)\n"
          ]
        }
      ]
    },
    {
      "cell_type": "code",
      "metadata": {
        "id": "Yh5oiQ4PaEGs"
      },
      "source": [],
      "execution_count": 16,
      "outputs": []
    }
  ]
}