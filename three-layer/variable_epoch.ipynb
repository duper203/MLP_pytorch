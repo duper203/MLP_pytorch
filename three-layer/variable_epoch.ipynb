{
  "nbformat": 4,
  "nbformat_minor": 0,
  "metadata": {
    "colab": {
      "provenance": [],
      "gpuType": "T4",
      "include_colab_link": true
    },
    "kernelspec": {
      "name": "python3",
      "display_name": "Python 3"
    },
    "language_info": {
      "name": "python"
    },
    "accelerator": "GPU"
  },
  "cells": [
    {
      "cell_type": "markdown",
      "metadata": {
        "id": "view-in-github",
        "colab_type": "text"
      },
      "source": [
        "<a href=\"https://colab.research.google.com/github/duper203/MLP_pytorch/blob/main/three-layer/variable_epoch.ipynb\" target=\"_parent\"><img src=\"https://colab.research.google.com/assets/colab-badge.svg\" alt=\"Open In Colab\"/></a>"
      ]
    },
    {
      "cell_type": "markdown",
      "metadata": {
        "id": "Y_a1Rz3nVyJh"
      },
      "source": [
        "# Assignment 1 : MLP Classification (Pytorch)\n"
      ]
    },
    {
      "cell_type": "code",
      "metadata": {
        "id": "MI4mr7ETdFSF",
        "colab": {
          "base_uri": "https://localhost:8080/"
        },
        "outputId": "181998d3-3306-451a-b70c-e5404983de64"
      },
      "source": [
        "name = input(\"Name :\")\n",
        "ID = input(\"student ID :\")"
      ],
      "execution_count": null,
      "outputs": [
        {
          "name": "stdout",
          "output_type": "stream",
          "text": [
            "Name :김혜수\n",
            "student ID :2110883\n"
          ]
        }
      ]
    },
    {
      "cell_type": "markdown",
      "metadata": {
        "id": "vPLGGnO29MSa"
      },
      "source": [
        "## 실습\n",
        "___"
      ]
    },
    {
      "cell_type": "markdown",
      "metadata": {
        "id": "xDukFMhuUJvN"
      },
      "source": [
        "\n",
        "## Matrix 미분 정리\n",
        "$H = XW+b$</br>\n",
        "$L = f(H)$</br>\n",
        "$\\frac{\\partial L}{\\partial W} = \\frac{\\partial H}{\\partial W} \\times \\frac{\\partial L}{\\partial H} = \\frac{\\partial (XW+b)}{\\partial W} \\times\\frac{\\partial L}{\\partial H} = X *\\frac{\\partial L}{\\partial H}$</br>\n",
        "$\\frac{\\partial L}{\\partial X} = \\frac{\\partial L}{\\partial H} \\times \\frac{\\partial H}{\\partial X} = \\frac{\\partial L}{\\partial H} \\times \\frac{\\partial (XW+b)}{\\partial X} = \\frac{\\partial L}{\\partial H}*W$</br>\n",
        "$\\frac{\\partial L}{\\partial b}=1*\\frac{\\partial L}{\\partial H}$</br>"
      ]
    },
    {
      "cell_type": "markdown",
      "metadata": {
        "id": "i-fmKct3--PU"
      },
      "source": [
        "3 Layer Network를 완성하시오\n"
      ]
    },
    {
      "cell_type": "code",
      "metadata": {
        "id": "Dec_jM7xqcmi"
      },
      "source": [
        "import torch\n",
        "\n",
        "class ThreeLayerNet(torch.nn.Module):\n",
        "  def __init__(self, input_size, hidden_size_one,hidden_size_two,output_size, std=1e-4):\n",
        "    super(ThreeLayerNet, self).__init__()\n",
        "    torch.manual_seed(0)\n",
        "\n",
        "    #---------과제---------#\n",
        "    #네트워크를 설계해보세요#\n",
        "    #torch.nn.Linear가 MLP 한 층을 나타냅니다#\n",
        "    #Activation function도 잊지 마세요#\n",
        "    #! hidden size는 자유롭게 설계해보세요 !#\n",
        "    #---------과제---------#\n",
        "\n",
        "    self.layer1=torch.nn.Linear(input_size, hidden_size_one)\n",
        "    self.layer2=torch.nn.Linear(hidden_size_one, hidden_size_two)\n",
        "    self.layer3=torch.nn.Linear(hidden_size_two, output_size)\n",
        "    self.relu=torch.nn.ReLU()\n",
        "\n",
        "\n",
        "  def forward(self, X, y = None):\n",
        "    #---------과제---------#\n",
        "    #feedfoward 부분을 코딩해보세요#\n",
        "    #천천히 순서대로 작성하시면 됩니다.#\n",
        "    #마지막에 softmax 잊지 마세요#\n",
        "    #최종 결과물 변수의 이름은 output으로 해주세요#\n",
        "    #---------과제---------#\n",
        "    feature1=self.relu(self.layer1(X))\n",
        "    feature2=self.relu(self.layer2(feature1))\n",
        "    feature3=self.relu(self.layer3(feature2))\n",
        "\n",
        "    output=torch.nn.functional.log_softmax(feature3, dim=1)\n",
        "\n",
        "    return output\n",
        "\n",
        "  def accuracy(self, X, y):\n",
        "      p = self.forward(X)\n",
        "      pred = torch.argmax(p,dim=1)\n",
        "      acc = torch.sum(pred==y).float()/X.shape[0]*100\n",
        "\n",
        "      return acc\n"
      ],
      "execution_count": 1,
      "outputs": []
    },
    {
      "cell_type": "markdown",
      "metadata": {
        "id": "DZ-HRa3Y6BSH"
      },
      "source": [
        "#### Data"
      ]
    },
    {
      "cell_type": "code",
      "metadata": {
        "id": "u3wb5RRRQokx",
        "colab": {
          "base_uri": "https://localhost:8080/"
        },
        "outputId": "931f1c20-6b70-434d-cbbb-db3d881a5f91",
        "collapsed": true
      },
      "source": [
        "from keras.datasets import mnist\n",
        "import numpy as np\n",
        "from matplotlib import pyplot as plt\n",
        "(x_train, y_train), (x_test, y_test) = mnist.load_data()"
      ],
      "execution_count": 2,
      "outputs": [
        {
          "output_type": "stream",
          "name": "stdout",
          "text": [
            "Downloading data from https://storage.googleapis.com/tensorflow/tf-keras-datasets/mnist.npz\n",
            "\u001b[1m11490434/11490434\u001b[0m \u001b[32m━━━━━━━━━━━━━━━━━━━━\u001b[0m\u001b[37m\u001b[0m \u001b[1m2s\u001b[0m 0us/step\n"
          ]
        }
      ]
    },
    {
      "cell_type": "code",
      "metadata": {
        "colab": {
          "base_uri": "https://localhost:8080/"
        },
        "id": "rU41dla3E-lK",
        "outputId": "853aba71-e81d-4ca5-b8f5-aa0a0acabbcd"
      },
      "source": [
        "print(\"shape of x_train :\",x_train.shape)\n",
        "print(\"shape of y_train :\",y_train.shape)\n",
        "print(\"shape of x_test :\",x_test.shape)\n",
        "print(\"shape of y_test :\",y_test.shape)"
      ],
      "execution_count": 3,
      "outputs": [
        {
          "output_type": "stream",
          "name": "stdout",
          "text": [
            "shape of x_train : (60000, 28, 28)\n",
            "shape of y_train : (60000,)\n",
            "shape of x_test : (10000, 28, 28)\n",
            "shape of y_test : (10000,)\n"
          ]
        }
      ]
    },
    {
      "cell_type": "code",
      "metadata": {
        "id": "XhwXBuLBCW5U"
      },
      "source": [
        "def preprocessing_data(x_train, x_test, y_train, y_test):\n",
        "    x_train = x_train[:5000]\n",
        "    y_train = y_train[:5000]\n",
        "    x_test = x_test[:1000]\n",
        "    y_test = y_test[:1000]\n",
        "\n",
        "    #change dtype\n",
        "    x_train = torch.from_numpy(x_train).cuda()\n",
        "    x_test = torch.from_numpy(x_test).cuda()\n",
        "\n",
        "    x_train = torch.tensor(x_train,dtype=torch.float64, device=\"cuda:0\")\n",
        "    y_train = torch.tensor(y_train,device=\"cuda:0\")\n",
        "\n",
        "    x_test = torch.tensor(x_test,dtype=torch.float64,device=\"cuda:0\")\n",
        "    y_test = torch.tensor(y_test,device=\"cuda:0\")\n",
        "\n",
        "    #reshaping : 2D -> 1D\n",
        "    x_train = x_train.reshape([x_train.shape[0],-1])\n",
        "    x_test = x_test.reshape(x_test.shape[0],-1)\n",
        "\n",
        "\n",
        "    #normalization : 값의 정규화\n",
        "    mean_value = torch.mean(x_train, dim=0)\n",
        "    x_train -= mean_value\n",
        "    x_train = x_train/255\n",
        "    x_test -= mean_value\n",
        "    x_test = x_test/255\n",
        "\n",
        "\n",
        "    return x_train, x_test, y_train, y_test"
      ],
      "execution_count": 4,
      "outputs": []
    },
    {
      "cell_type": "code",
      "metadata": {
        "id": "X8JElsD8kjst",
        "colab": {
          "base_uri": "https://localhost:8080/"
        },
        "outputId": "f8c5f9a9-d44a-4187-8662-9586c8efd7c9",
        "collapsed": true
      },
      "source": [
        "x_train, x_test, y_train, y_test = preprocessing_data(x_train, x_test, y_train, y_test)\n"
      ],
      "execution_count": 5,
      "outputs": [
        {
          "output_type": "stream",
          "name": "stderr",
          "text": [
            "<ipython-input-4-8ebaba95c783>:11: UserWarning: To copy construct from a tensor, it is recommended to use sourceTensor.clone().detach() or sourceTensor.clone().detach().requires_grad_(True), rather than torch.tensor(sourceTensor).\n",
            "  x_train = torch.tensor(x_train,dtype=torch.float64, device=\"cuda:0\")\n",
            "<ipython-input-4-8ebaba95c783>:14: UserWarning: To copy construct from a tensor, it is recommended to use sourceTensor.clone().detach() or sourceTensor.clone().detach().requires_grad_(True), rather than torch.tensor(sourceTensor).\n",
            "  x_test = torch.tensor(x_test,dtype=torch.float64,device=\"cuda:0\")\n"
          ]
        }
      ]
    },
    {
      "cell_type": "code",
      "metadata": {
        "colab": {
          "base_uri": "https://localhost:8080/"
        },
        "id": "CbAgU3LWkm_5",
        "outputId": "6c071705-1768-4604-a7fd-aab1463e84de"
      },
      "source": [
        "print(\"shape of x_train :\",x_train.shape)\n",
        "print(\"shape of y_train :\",y_train.shape)\n",
        "print(\"shape of x_test :\",x_test.shape)\n",
        "print(\"shape of y_test :\",y_test.shape)"
      ],
      "execution_count": 6,
      "outputs": [
        {
          "output_type": "stream",
          "name": "stdout",
          "text": [
            "shape of x_train : torch.Size([5000, 784])\n",
            "shape of y_train : torch.Size([5000])\n",
            "shape of x_test : torch.Size([1000, 784])\n",
            "shape of y_test : torch.Size([1000])\n"
          ]
        }
      ]
    },
    {
      "cell_type": "markdown",
      "source": [
        "####Training"
      ],
      "metadata": {
        "id": "X-FhRaxEzIU2"
      }
    },
    {
      "cell_type": "code",
      "metadata": {
        "colab": {
          "base_uri": "https://localhost:8080/"
        },
        "id": "fxUvdSR94v5V",
        "outputId": "a448505b-4eee-47e7-aa32-87bbe7168f4e"
      },
      "source": [
        "N = x_train.shape[0]\n",
        "input_size = x_train.shape[1]\n",
        "\n",
        "#---------과제---------#\n",
        "\n",
        "## 고정 변수\n",
        "output_size = 10 # output target 종류의 개수 mnist 데이터 클래스 10개 (고정)\n",
        "\n",
        "learning_rate = 0.01 # 학습 수\n",
        "hidden_size_one= 128\n",
        "hidden_size_two= 64\n",
        "\n",
        "## 실험 할 값 ##\n",
        "epoch_sizes = [5, 10, 20, 30, 50]\n",
        "results_epoch = {}\n",
        "\n",
        "#---------과제---------#\n",
        "\n",
        "for epoch_size in epoch_sizes:\n",
        "\n",
        "  Network = ThreeLayerNet(input_size=input_size, hidden_size_one=hidden_size_one,hidden_size_two=hidden_size_two,output_size=output_size)\n",
        "  Network = Network.cuda()\n",
        "  history = {'val_acc': [],'val_loss': []}\n",
        "\n",
        "  #loss 와 optimzer 선언\n",
        "  optimizer = torch.optim.SGD(Network.parameters(), lr=learning_rate)\n",
        "  criterion = torch.nn.CrossEntropyLoss()\n",
        "\n",
        "  for i in range(epoch_size+1):\n",
        "      for j in range(N):\n",
        "\n",
        "          optimizer.zero_grad()\n",
        "\n",
        "          x_now = x_train[j].unsqueeze(0).type(torch.cuda.FloatTensor)\n",
        "          y_now = y_train[j].unsqueeze(0)\n",
        "\n",
        "          y_predict = Network(x_now)\n",
        "\n",
        "          #---------과제---------#\n",
        "          #loss 계산 후 weight update#\n",
        "          #---------과제---------#\n",
        "\n",
        "          # loss 계산\n",
        "          loss=criterion(y_predict,y_now)\n",
        "\n",
        "          # BP\n",
        "          loss.backward()\n",
        "\n",
        "          # weight update := optimizer\n",
        "          optimizer.step()\n",
        "\n",
        "      #accuracy와 loss를 기록해둡시다.\n",
        "      val_acc = 0\n",
        "      val_loss = 0\n",
        "      for k in range(x_test.shape[0]):\n",
        "          val_acc += Network.accuracy(x_test[k].unsqueeze(0).type(torch.cuda.FloatTensor), y_test[k])\n",
        "          val_loss += criterion((Network.forward(x_test[k].unsqueeze(0).type(torch.cuda.FloatTensor))), y_test[k].unsqueeze(0)).detach()\n",
        "      history[\"val_acc\"].append((val_acc/x_test.shape[0]).cpu())\n",
        "      history[\"val_loss\"].append((val_loss/x_test.shape[0]).cpu())\n",
        "\n",
        "      if i % 10 == 0:\n",
        "          print(\"============================================\")\n",
        "          print(\"epoch:\",epoch_size)\n",
        "          print(i, \"train accuracy :\", Network.accuracy(x_train.type(torch.cuda.FloatTensor), y_train))\n",
        "          print(i, \"train loss     :\", loss)\n",
        "          print(i, \"test accuracy :\", val_acc/x_test.shape[0])\n",
        "          print(i, \"test loss     :\", val_loss/x_test.shape[0])\n",
        "          print(\"============================================\")\n",
        "\n",
        "      results_epoch[epoch_size] = {'final_acc': history['val_acc'][-1], 'final_loss': history['val_loss'][-1], 'history': history}\n"
      ],
      "execution_count": 8,
      "outputs": [
        {
          "output_type": "stream",
          "name": "stdout",
          "text": [
            "============================================\n",
            "epoch: 5\n",
            "0 train accuracy : tensor(56.3400, device='cuda:0')\n",
            "0 train loss     : tensor(0.1247, device='cuda:0', grad_fn=<NllLossBackward0>)\n",
            "0 test accuracy : tensor(55.5000, device='cuda:0')\n",
            "0 test loss     : tensor(1.2205, device='cuda:0')\n",
            "============================================\n",
            "============================================\n",
            "epoch: 10\n",
            "0 train accuracy : tensor(56.3400, device='cuda:0')\n",
            "0 train loss     : tensor(0.1247, device='cuda:0', grad_fn=<NllLossBackward0>)\n",
            "0 test accuracy : tensor(55.5000, device='cuda:0')\n",
            "0 test loss     : tensor(1.2205, device='cuda:0')\n",
            "============================================\n",
            "============================================\n",
            "epoch: 10\n",
            "10 train accuracy : tensor(69.3800, device='cuda:0')\n",
            "10 train loss     : tensor(0.0002, device='cuda:0', grad_fn=<NllLossBackward0>)\n",
            "10 test accuracy : tensor(65.8000, device='cuda:0')\n",
            "10 test loss     : tensor(0.8939, device='cuda:0')\n",
            "============================================\n",
            "============================================\n",
            "epoch: 20\n",
            "0 train accuracy : tensor(56.3400, device='cuda:0')\n",
            "0 train loss     : tensor(0.1247, device='cuda:0', grad_fn=<NllLossBackward0>)\n",
            "0 test accuracy : tensor(55.5000, device='cuda:0')\n",
            "0 test loss     : tensor(1.2205, device='cuda:0')\n",
            "============================================\n",
            "============================================\n",
            "epoch: 20\n",
            "10 train accuracy : tensor(69.3800, device='cuda:0')\n",
            "10 train loss     : tensor(0.0002, device='cuda:0', grad_fn=<NllLossBackward0>)\n",
            "10 test accuracy : tensor(65.8000, device='cuda:0')\n",
            "10 test loss     : tensor(0.8939, device='cuda:0')\n",
            "============================================\n",
            "============================================\n",
            "epoch: 20\n",
            "20 train accuracy : tensor(69.3800, device='cuda:0')\n",
            "20 train loss     : tensor(3.7908e-05, device='cuda:0', grad_fn=<NllLossBackward0>)\n",
            "20 test accuracy : tensor(65.7000, device='cuda:0')\n",
            "20 test loss     : tensor(0.9126, device='cuda:0')\n",
            "============================================\n",
            "============================================\n",
            "epoch: 30\n",
            "0 train accuracy : tensor(56.3400, device='cuda:0')\n",
            "0 train loss     : tensor(0.1247, device='cuda:0', grad_fn=<NllLossBackward0>)\n",
            "0 test accuracy : tensor(55.5000, device='cuda:0')\n",
            "0 test loss     : tensor(1.2205, device='cuda:0')\n",
            "============================================\n",
            "============================================\n",
            "epoch: 30\n",
            "10 train accuracy : tensor(69.3800, device='cuda:0')\n",
            "10 train loss     : tensor(0.0002, device='cuda:0', grad_fn=<NllLossBackward0>)\n",
            "10 test accuracy : tensor(65.8000, device='cuda:0')\n",
            "10 test loss     : tensor(0.8939, device='cuda:0')\n",
            "============================================\n",
            "============================================\n",
            "epoch: 30\n",
            "20 train accuracy : tensor(69.3800, device='cuda:0')\n",
            "20 train loss     : tensor(3.7908e-05, device='cuda:0', grad_fn=<NllLossBackward0>)\n",
            "20 test accuracy : tensor(65.7000, device='cuda:0')\n",
            "20 test loss     : tensor(0.9126, device='cuda:0')\n",
            "============================================\n",
            "============================================\n",
            "epoch: 30\n",
            "30 train accuracy : tensor(69.3800, device='cuda:0')\n",
            "30 train loss     : tensor(1.8716e-05, device='cuda:0', grad_fn=<NllLossBackward0>)\n",
            "30 test accuracy : tensor(65.6000, device='cuda:0')\n",
            "30 test loss     : tensor(0.9245, device='cuda:0')\n",
            "============================================\n",
            "============================================\n",
            "epoch: 50\n",
            "0 train accuracy : tensor(56.3400, device='cuda:0')\n",
            "0 train loss     : tensor(0.1247, device='cuda:0', grad_fn=<NllLossBackward0>)\n",
            "0 test accuracy : tensor(55.5000, device='cuda:0')\n",
            "0 test loss     : tensor(1.2205, device='cuda:0')\n",
            "============================================\n",
            "============================================\n",
            "epoch: 50\n",
            "10 train accuracy : tensor(69.3800, device='cuda:0')\n",
            "10 train loss     : tensor(0.0002, device='cuda:0', grad_fn=<NllLossBackward0>)\n",
            "10 test accuracy : tensor(65.8000, device='cuda:0')\n",
            "10 test loss     : tensor(0.8939, device='cuda:0')\n",
            "============================================\n",
            "============================================\n",
            "epoch: 50\n",
            "20 train accuracy : tensor(69.3800, device='cuda:0')\n",
            "20 train loss     : tensor(3.7908e-05, device='cuda:0', grad_fn=<NllLossBackward0>)\n",
            "20 test accuracy : tensor(65.7000, device='cuda:0')\n",
            "20 test loss     : tensor(0.9126, device='cuda:0')\n",
            "============================================\n",
            "============================================\n",
            "epoch: 50\n",
            "30 train accuracy : tensor(69.3800, device='cuda:0')\n",
            "30 train loss     : tensor(1.8716e-05, device='cuda:0', grad_fn=<NllLossBackward0>)\n",
            "30 test accuracy : tensor(65.6000, device='cuda:0')\n",
            "30 test loss     : tensor(0.9245, device='cuda:0')\n",
            "============================================\n",
            "============================================\n",
            "epoch: 50\n",
            "40 train accuracy : tensor(69.3800, device='cuda:0')\n",
            "40 train loss     : tensor(8.5830e-06, device='cuda:0', grad_fn=<NllLossBackward0>)\n",
            "40 test accuracy : tensor(65.8000, device='cuda:0')\n",
            "40 test loss     : tensor(0.9330, device='cuda:0')\n",
            "============================================\n",
            "============================================\n",
            "epoch: 50\n",
            "50 train accuracy : tensor(69.3800, device='cuda:0')\n",
            "50 train loss     : tensor(5.2452e-06, device='cuda:0', grad_fn=<NllLossBackward0>)\n",
            "50 test accuracy : tensor(65.5000, device='cuda:0')\n",
            "50 test loss     : tensor(0.9333, device='cuda:0')\n",
            "============================================\n"
          ]
        }
      ]
    },
    {
      "cell_type": "code",
      "source": [
        "results_epoch"
      ],
      "metadata": {
        "colab": {
          "base_uri": "https://localhost:8080/"
        },
        "id": "O-l2ADt4bmJr",
        "outputId": "a0f85e68-df3f-4ff7-c504-11dfdb0d9341"
      },
      "execution_count": 9,
      "outputs": [
        {
          "output_type": "execute_result",
          "data": {
            "text/plain": [
              "{5: {'final_acc': tensor(65.7000),\n",
              "  'final_loss': tensor(0.8948),\n",
              "  'history': {'val_acc': [tensor(55.5000),\n",
              "    tensor(55.9000),\n",
              "    tensor(56.5000),\n",
              "    tensor(64.1000),\n",
              "    tensor(65.1000),\n",
              "    tensor(65.7000)],\n",
              "   'val_loss': [tensor(1.2205),\n",
              "    tensor(1.1286),\n",
              "    tensor(1.0979),\n",
              "    tensor(1.0426),\n",
              "    tensor(0.9227),\n",
              "    tensor(0.8948)]}},\n",
              " 10: {'final_acc': tensor(65.8000),\n",
              "  'final_loss': tensor(0.8939),\n",
              "  'history': {'val_acc': [tensor(55.5000),\n",
              "    tensor(55.9000),\n",
              "    tensor(56.5000),\n",
              "    tensor(64.1000),\n",
              "    tensor(65.1000),\n",
              "    tensor(65.7000),\n",
              "    tensor(64.7000),\n",
              "    tensor(65.7000),\n",
              "    tensor(65.5000),\n",
              "    tensor(65.5000),\n",
              "    tensor(65.8000)],\n",
              "   'val_loss': [tensor(1.2205),\n",
              "    tensor(1.1286),\n",
              "    tensor(1.0979),\n",
              "    tensor(1.0426),\n",
              "    tensor(0.9227),\n",
              "    tensor(0.8948),\n",
              "    tensor(0.9041),\n",
              "    tensor(0.8993),\n",
              "    tensor(0.8910),\n",
              "    tensor(0.8903),\n",
              "    tensor(0.8939)]}},\n",
              " 20: {'final_acc': tensor(65.7000),\n",
              "  'final_loss': tensor(0.9126),\n",
              "  'history': {'val_acc': [tensor(55.5000),\n",
              "    tensor(55.9000),\n",
              "    tensor(56.5000),\n",
              "    tensor(64.1000),\n",
              "    tensor(65.1000),\n",
              "    tensor(65.7000),\n",
              "    tensor(64.7000),\n",
              "    tensor(65.7000),\n",
              "    tensor(65.5000),\n",
              "    tensor(65.5000),\n",
              "    tensor(65.8000),\n",
              "    tensor(65.6000),\n",
              "    tensor(65.6000),\n",
              "    tensor(65.6000),\n",
              "    tensor(65.5000),\n",
              "    tensor(65.4000),\n",
              "    tensor(65.4000),\n",
              "    tensor(65.6000),\n",
              "    tensor(65.5000),\n",
              "    tensor(65.4000),\n",
              "    tensor(65.7000)],\n",
              "   'val_loss': [tensor(1.2205),\n",
              "    tensor(1.1286),\n",
              "    tensor(1.0979),\n",
              "    tensor(1.0426),\n",
              "    tensor(0.9227),\n",
              "    tensor(0.8948),\n",
              "    tensor(0.9041),\n",
              "    tensor(0.8993),\n",
              "    tensor(0.8910),\n",
              "    tensor(0.8903),\n",
              "    tensor(0.8939),\n",
              "    tensor(0.8946),\n",
              "    tensor(0.8977),\n",
              "    tensor(0.9013),\n",
              "    tensor(0.9038),\n",
              "    tensor(0.9110),\n",
              "    tensor(0.9053),\n",
              "    tensor(0.9080),\n",
              "    tensor(0.9119),\n",
              "    tensor(0.9125),\n",
              "    tensor(0.9126)]}},\n",
              " 30: {'final_acc': tensor(65.6000),\n",
              "  'final_loss': tensor(0.9245),\n",
              "  'history': {'val_acc': [tensor(55.5000),\n",
              "    tensor(55.9000),\n",
              "    tensor(56.5000),\n",
              "    tensor(64.1000),\n",
              "    tensor(65.1000),\n",
              "    tensor(65.7000),\n",
              "    tensor(64.7000),\n",
              "    tensor(65.7000),\n",
              "    tensor(65.5000),\n",
              "    tensor(65.5000),\n",
              "    tensor(65.8000),\n",
              "    tensor(65.6000),\n",
              "    tensor(65.6000),\n",
              "    tensor(65.6000),\n",
              "    tensor(65.5000),\n",
              "    tensor(65.4000),\n",
              "    tensor(65.4000),\n",
              "    tensor(65.6000),\n",
              "    tensor(65.5000),\n",
              "    tensor(65.4000),\n",
              "    tensor(65.7000),\n",
              "    tensor(65.5000),\n",
              "    tensor(65.4000),\n",
              "    tensor(65.4000),\n",
              "    tensor(65.4000),\n",
              "    tensor(65.7000),\n",
              "    tensor(65.7000),\n",
              "    tensor(65.8000),\n",
              "    tensor(65.6000),\n",
              "    tensor(65.7000),\n",
              "    tensor(65.6000)],\n",
              "   'val_loss': [tensor(1.2205),\n",
              "    tensor(1.1286),\n",
              "    tensor(1.0979),\n",
              "    tensor(1.0426),\n",
              "    tensor(0.9227),\n",
              "    tensor(0.8948),\n",
              "    tensor(0.9041),\n",
              "    tensor(0.8993),\n",
              "    tensor(0.8910),\n",
              "    tensor(0.8903),\n",
              "    tensor(0.8939),\n",
              "    tensor(0.8946),\n",
              "    tensor(0.8977),\n",
              "    tensor(0.9013),\n",
              "    tensor(0.9038),\n",
              "    tensor(0.9110),\n",
              "    tensor(0.9053),\n",
              "    tensor(0.9080),\n",
              "    tensor(0.9119),\n",
              "    tensor(0.9125),\n",
              "    tensor(0.9126),\n",
              "    tensor(0.9136),\n",
              "    tensor(0.9192),\n",
              "    tensor(0.9185),\n",
              "    tensor(0.9180),\n",
              "    tensor(0.9204),\n",
              "    tensor(0.9191),\n",
              "    tensor(0.9208),\n",
              "    tensor(0.9254),\n",
              "    tensor(0.9239),\n",
              "    tensor(0.9245)]}},\n",
              " 50: {'final_acc': tensor(65.5000),\n",
              "  'final_loss': tensor(0.9333),\n",
              "  'history': {'val_acc': [tensor(55.5000),\n",
              "    tensor(55.9000),\n",
              "    tensor(56.5000),\n",
              "    tensor(64.1000),\n",
              "    tensor(65.1000),\n",
              "    tensor(65.7000),\n",
              "    tensor(64.7000),\n",
              "    tensor(65.7000),\n",
              "    tensor(65.5000),\n",
              "    tensor(65.5000),\n",
              "    tensor(65.8000),\n",
              "    tensor(65.6000),\n",
              "    tensor(65.6000),\n",
              "    tensor(65.6000),\n",
              "    tensor(65.5000),\n",
              "    tensor(65.4000),\n",
              "    tensor(65.4000),\n",
              "    tensor(65.6000),\n",
              "    tensor(65.5000),\n",
              "    tensor(65.4000),\n",
              "    tensor(65.7000),\n",
              "    tensor(65.5000),\n",
              "    tensor(65.4000),\n",
              "    tensor(65.4000),\n",
              "    tensor(65.4000),\n",
              "    tensor(65.7000),\n",
              "    tensor(65.7000),\n",
              "    tensor(65.8000),\n",
              "    tensor(65.6000),\n",
              "    tensor(65.7000),\n",
              "    tensor(65.6000),\n",
              "    tensor(65.6000),\n",
              "    tensor(65.6000),\n",
              "    tensor(65.7000),\n",
              "    tensor(65.7000),\n",
              "    tensor(65.8000),\n",
              "    tensor(65.9000),\n",
              "    tensor(65.7000),\n",
              "    tensor(65.7000),\n",
              "    tensor(65.7000),\n",
              "    tensor(65.8000),\n",
              "    tensor(65.9000),\n",
              "    tensor(65.8000),\n",
              "    tensor(65.7000),\n",
              "    tensor(65.7000),\n",
              "    tensor(65.9000),\n",
              "    tensor(65.7000),\n",
              "    tensor(65.8000),\n",
              "    tensor(65.7000),\n",
              "    tensor(65.7000),\n",
              "    tensor(65.5000)],\n",
              "   'val_loss': [tensor(1.2205),\n",
              "    tensor(1.1286),\n",
              "    tensor(1.0979),\n",
              "    tensor(1.0426),\n",
              "    tensor(0.9227),\n",
              "    tensor(0.8948),\n",
              "    tensor(0.9041),\n",
              "    tensor(0.8993),\n",
              "    tensor(0.8910),\n",
              "    tensor(0.8903),\n",
              "    tensor(0.8939),\n",
              "    tensor(0.8946),\n",
              "    tensor(0.8977),\n",
              "    tensor(0.9013),\n",
              "    tensor(0.9038),\n",
              "    tensor(0.9110),\n",
              "    tensor(0.9053),\n",
              "    tensor(0.9080),\n",
              "    tensor(0.9119),\n",
              "    tensor(0.9125),\n",
              "    tensor(0.9126),\n",
              "    tensor(0.9136),\n",
              "    tensor(0.9192),\n",
              "    tensor(0.9185),\n",
              "    tensor(0.9180),\n",
              "    tensor(0.9204),\n",
              "    tensor(0.9191),\n",
              "    tensor(0.9208),\n",
              "    tensor(0.9254),\n",
              "    tensor(0.9239),\n",
              "    tensor(0.9245),\n",
              "    tensor(0.9286),\n",
              "    tensor(0.9275),\n",
              "    tensor(0.9231),\n",
              "    tensor(0.9274),\n",
              "    tensor(0.9280),\n",
              "    tensor(0.9282),\n",
              "    tensor(0.9295),\n",
              "    tensor(0.9297),\n",
              "    tensor(0.9290),\n",
              "    tensor(0.9330),\n",
              "    tensor(0.9318),\n",
              "    tensor(0.9296),\n",
              "    tensor(0.9326),\n",
              "    tensor(0.9346),\n",
              "    tensor(0.9374),\n",
              "    tensor(0.9399),\n",
              "    tensor(0.9354),\n",
              "    tensor(0.9363),\n",
              "    tensor(0.9394),\n",
              "    tensor(0.9333)]}}}"
            ]
          },
          "metadata": {},
          "execution_count": 9
        }
      ]
    },
    {
      "cell_type": "code",
      "source": [
        "results_epoch.keys()"
      ],
      "metadata": {
        "colab": {
          "base_uri": "https://localhost:8080/"
        },
        "id": "oH5Za7qNknpu",
        "outputId": "dfd626cd-a15a-489c-90a6-beefc3deb682"
      },
      "execution_count": 24,
      "outputs": [
        {
          "output_type": "execute_result",
          "data": {
            "text/plain": [
              "dict_keys([5, 10, 20, 30, 50])"
            ]
          },
          "metadata": {},
          "execution_count": 24
        }
      ]
    },
    {
      "cell_type": "code",
      "source": [
        "import matplotlib.pyplot as plt\n",
        "\n",
        "# 간단한 에폭 실험 시각화\n",
        "plt.figure(figsize=(12, 5))\n",
        "\n",
        "# 정확도 그래프\n",
        "plt.subplot(1, 2, 1)\n",
        "for epoch in results_epoch.keys():\n",
        "    # 검증 정확도 데이터 추출\n",
        "    acc_values = [float(v) for v in results_epoch[epoch]['history']['val_acc']]\n",
        "    x_values = range(len(acc_values))\n",
        "\n",
        "    # 선 그래프 그리기\n",
        "    plt.plot(x_values, acc_values, marker='o', label=f'{epoch} epochs')\n",
        "\n",
        "    # 최고 정확도 표시\n",
        "    max_acc = max(acc_values)\n",
        "    max_epoch = acc_values.index(max_acc)\n",
        "    plt.plot(max_epoch, max_acc, 'o', markersize=8)\n",
        "    plt.text(max_epoch, max_acc + 0.3, f'{max_acc:.1f}%', ha='center')\n",
        "\n",
        "plt.title('Validation Accuracy')\n",
        "plt.xlabel('Epoch')\n",
        "plt.ylabel('Accuracy (%)')\n",
        "plt.grid(True, alpha=0.3)\n",
        "plt.legend()\n",
        "plt.ylim(50, 70)\n",
        "\n",
        "# 손실 그래프\n",
        "plt.subplot(1, 2, 2)\n",
        "for epoch in [5, 10, 20, 30]:\n",
        "    # 검증 손실 데이터 추출\n",
        "    loss_values = [float(v) for v in results_epoch[epoch]['history']['val_loss']]\n",
        "    x_values = range(len(loss_values))\n",
        "\n",
        "    # 선 그래프 그리기\n",
        "    plt.plot(x_values, loss_values, marker='o', label=f'{epoch} epochs')\n",
        "\n",
        "    # 최저 손실 표시\n",
        "    min_loss = min(loss_values)\n",
        "    min_epoch = loss_values.index(min_loss)\n",
        "    plt.plot(min_epoch, min_loss, 'o', markersize=8)\n",
        "    plt.text(min_epoch, min_loss - 0.02, f'{min_loss:.2f}', ha='center')\n",
        "\n",
        "plt.title('Validation Loss')\n",
        "plt.xlabel('Epoch')\n",
        "plt.ylabel('Loss')\n",
        "plt.grid(True, alpha=0.3)\n",
        "plt.legend()\n",
        "\n",
        "plt.tight_layout()\n",
        "plt.show()\n",
        "\n",
        "# 결과 요약 출력\n",
        "print(\"== 에폭 실험 결과 요약 ==\")\n",
        "for epoch in [5, 10, 20, 30, 50]:\n",
        "    max_acc = max([float(v) for v in results_epoch[epoch]['history']['val_acc']])\n",
        "    print(f\"{epoch} epochs: 최고 정확도 {max_acc:.1f}%\")"
      ],
      "metadata": {
        "colab": {
          "base_uri": "https://localhost:8080/",
          "height": 611
        },
        "id": "sZaYJ0dmRxDY",
        "outputId": "13e463ac-cdf8-439b-c652-54776dca6f33"
      },
      "execution_count": 23,
      "outputs": [
        {
          "output_type": "display_data",
          "data": {
            "text/plain": [
              "<Figure size 1200x500 with 2 Axes>"
            ],
            "image/png": "[encoded data removed]"
          },
          "metadata": {}
        },
        {
          "output_type": "stream",
          "name": "stdout",
          "text": [
            "== 에폭 실험 결과 요약 ==\n",
            "5 epochs: 최고 정확도 65.7%\n",
            "10 epochs: 최고 정확도 65.8%\n",
            "20 epochs: 최고 정확도 65.8%\n",
            "30 epochs: 최고 정확도 65.8%\n",
            "50 epochs: 최고 정확도 65.9%\n"
          ]
        }
      ]
    }
  ]
}